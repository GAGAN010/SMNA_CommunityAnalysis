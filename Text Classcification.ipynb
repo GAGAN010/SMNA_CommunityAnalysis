{
 "cells": [
  {
   "cell_type": "code",
   "execution_count": 2,
   "metadata": {
    "jupyter": {
     "outputs_hidden": false
    },
    "pycharm": {
     "name": "#%%\n"
    }
   },
   "outputs": [],
   "source": [
    "import numpy as np\n",
    "import pandas as pd\n",
    "import matplotlib.pyplot as plt\n",
    "import re\n",
    "from sklearn.feature_extraction.text import TfidfVectorizer\n",
    "from sklearn.metrics import ConfusionMatrixDisplay, classification_report\n",
    "from sklearn.model_selection import train_test_split\n",
    "from sklearn.neighbors import KNeighborsClassifier\n",
    "from sklearn.tree import DecisionTreeClassifier\n",
    "from sklearn.metrics import accuracy_score\n",
    "import numpy as np\n",
    "import pandas as pd\n",
    "import matplotlib.pyplot as plt\n",
    "import seaborn as sns\n",
    "from sklearn.linear_model import LogisticRegression\n",
    "from sklearn.ensemble import RandomForestClassifier\n",
    "from sklearn.model_selection import train_test_split, cross_val_score\n",
    "from sklearn.model_selection import RandomizedSearchCV, GridSearchCV\n",
    "from sklearn.metrics import confusion_matrix, classification_report"
   ]
  },
  {
   "cell_type": "code",
   "execution_count": 3,
   "metadata": {
    "jupyter": {
     "outputs_hidden": false
    },
    "pycharm": {
     "name": "#%%\n"
    }
   },
   "outputs": [],
   "source": [
    "\n",
    "RANDOM_SEED = 3971944\n",
    "np.random.seed(RANDOM_SEED)"
   ]
  },
  {
   "cell_type": "code",
   "execution_count": 4,
   "metadata": {
    "pycharm": {
     "name": "#%%\n"
    },
    "tags": []
   },
   "outputs": [],
   "source": [
    "def read_csvFile_to_df(file_name):\n",
    "    return pd.read_csv(file_name)"
   ]
  },
  {
   "cell_type": "code",
   "execution_count": 5,
   "metadata": {
    "jupyter": {
     "outputs_hidden": false
    },
    "pycharm": {
     "name": "#%%\n"
    }
   },
   "outputs": [
    {
     "data": {
      "text/html": [
       "<div>\n",
       "<style scoped>\n",
       "    .dataframe tbody tr th:only-of-type {\n",
       "        vertical-align: middle;\n",
       "    }\n",
       "\n",
       "    .dataframe tbody tr th {\n",
       "        vertical-align: top;\n",
       "    }\n",
       "\n",
       "    .dataframe thead th {\n",
       "        text-align: right;\n",
       "    }\n",
       "</style>\n",
       "<table border=\"1\" class=\"dataframe\">\n",
       "  <thead>\n",
       "    <tr style=\"text-align: right;\">\n",
       "      <th></th>\n",
       "      <th>Unnamed: 0</th>\n",
       "      <th>index</th>\n",
       "      <th>Unnamed: 0.1</th>\n",
       "      <th>id</th>\n",
       "      <th>conversation_id</th>\n",
       "      <th>created_at</th>\n",
       "      <th>date</th>\n",
       "      <th>timezone</th>\n",
       "      <th>place</th>\n",
       "      <th>tweet</th>\n",
       "      <th>...</th>\n",
       "      <th>reply_to</th>\n",
       "      <th>retweet_date</th>\n",
       "      <th>translate</th>\n",
       "      <th>trans_src</th>\n",
       "      <th>trans_dest</th>\n",
       "      <th>time</th>\n",
       "      <th>mentions</th>\n",
       "      <th>replies_count</th>\n",
       "      <th>retweets_count</th>\n",
       "      <th>likes_count</th>\n",
       "    </tr>\n",
       "  </thead>\n",
       "  <tbody>\n",
       "    <tr>\n",
       "      <th>0</th>\n",
       "      <td>0</td>\n",
       "      <td>0</td>\n",
       "      <td>0.0</td>\n",
       "      <td>1343644462036086785</td>\n",
       "      <td>1343320495127633920</td>\n",
       "      <td>1609184778000.0</td>\n",
       "      <td>2020-12-28 19:46:18</td>\n",
       "      <td>0</td>\n",
       "      <td>NaN</td>\n",
       "      <td>Entertainment will be critical when cars drive...</td>\n",
       "      <td>...</td>\n",
       "      <td>[]</td>\n",
       "      <td>NaN</td>\n",
       "      <td>NaN</td>\n",
       "      <td>NaN</td>\n",
       "      <td>NaN</td>\n",
       "      <td>NaN</td>\n",
       "      <td>NaN</td>\n",
       "      <td>NaN</td>\n",
       "      <td>NaN</td>\n",
       "      <td>NaN</td>\n",
       "    </tr>\n",
       "    <tr>\n",
       "      <th>1</th>\n",
       "      <td>1</td>\n",
       "      <td>1</td>\n",
       "      <td>1.0</td>\n",
       "      <td>1343619610617077760</td>\n",
       "      <td>1343386617294295040</td>\n",
       "      <td>1609178853000.0</td>\n",
       "      <td>2020-12-28 18:07:33</td>\n",
       "      <td>0</td>\n",
       "      <td>NaN</td>\n",
       "      <td>@kimpaquette Just meeting with Larry Ellison t...</td>\n",
       "      <td>...</td>\n",
       "      <td>[{'screen_name': 'kimpaquette', 'name': 'Kim P...</td>\n",
       "      <td>NaN</td>\n",
       "      <td>NaN</td>\n",
       "      <td>NaN</td>\n",
       "      <td>NaN</td>\n",
       "      <td>NaN</td>\n",
       "      <td>NaN</td>\n",
       "      <td>NaN</td>\n",
       "      <td>NaN</td>\n",
       "      <td>NaN</td>\n",
       "    </tr>\n",
       "    <tr>\n",
       "      <th>2</th>\n",
       "      <td>2</td>\n",
       "      <td>2</td>\n",
       "      <td>2.0</td>\n",
       "      <td>1343608616960491521</td>\n",
       "      <td>1343576442722893825</td>\n",
       "      <td>1609176231000.0</td>\n",
       "      <td>2020-12-28 17:23:51</td>\n",
       "      <td>0</td>\n",
       "      <td>NaN</td>\n",
       "      <td>@richierichhhhh_ Absolutely</td>\n",
       "      <td>...</td>\n",
       "      <td>[{'screen_name': 'richierichhhhh_', 'name': 'R...</td>\n",
       "      <td>NaN</td>\n",
       "      <td>NaN</td>\n",
       "      <td>NaN</td>\n",
       "      <td>NaN</td>\n",
       "      <td>NaN</td>\n",
       "      <td>NaN</td>\n",
       "      <td>NaN</td>\n",
       "      <td>NaN</td>\n",
       "      <td>NaN</td>\n",
       "    </tr>\n",
       "    <tr>\n",
       "      <th>3</th>\n",
       "      <td>3</td>\n",
       "      <td>3</td>\n",
       "      <td>3.0</td>\n",
       "      <td>1343608530998153222</td>\n",
       "      <td>1343320495127633920</td>\n",
       "      <td>1609176211000.0</td>\n",
       "      <td>2020-12-28 17:23:31</td>\n",
       "      <td>0</td>\n",
       "      <td>NaN</td>\n",
       "      <td>What should Tesla do with in-car gaming in an ...</td>\n",
       "      <td>...</td>\n",
       "      <td>[]</td>\n",
       "      <td>NaN</td>\n",
       "      <td>NaN</td>\n",
       "      <td>NaN</td>\n",
       "      <td>NaN</td>\n",
       "      <td>NaN</td>\n",
       "      <td>NaN</td>\n",
       "      <td>NaN</td>\n",
       "      <td>NaN</td>\n",
       "      <td>NaN</td>\n",
       "    </tr>\n",
       "    <tr>\n",
       "      <th>4</th>\n",
       "      <td>4</td>\n",
       "      <td>4</td>\n",
       "      <td>4.0</td>\n",
       "      <td>1343431408052662273</td>\n",
       "      <td>1343043963096326147</td>\n",
       "      <td>1609133982000.0</td>\n",
       "      <td>2020-12-28 05:39:42</td>\n",
       "      <td>0</td>\n",
       "      <td>NaN</td>\n",
       "      <td>@PPathole @WSJ Absolutely</td>\n",
       "      <td>...</td>\n",
       "      <td>[{'screen_name': 'PPathole', 'name': 'Pranay P...</td>\n",
       "      <td>NaN</td>\n",
       "      <td>NaN</td>\n",
       "      <td>NaN</td>\n",
       "      <td>NaN</td>\n",
       "      <td>NaN</td>\n",
       "      <td>NaN</td>\n",
       "      <td>NaN</td>\n",
       "      <td>NaN</td>\n",
       "      <td>NaN</td>\n",
       "    </tr>\n",
       "  </tbody>\n",
       "</table>\n",
       "<p>5 rows × 46 columns</p>\n",
       "</div>"
      ],
      "text/plain": [
       "   Unnamed: 0  index  Unnamed: 0.1                   id      conversation_id  \\\n",
       "0           0      0           0.0  1343644462036086785  1343320495127633920   \n",
       "1           1      1           1.0  1343619610617077760  1343386617294295040   \n",
       "2           2      2           2.0  1343608616960491521  1343576442722893825   \n",
       "3           3      3           3.0  1343608530998153222  1343320495127633920   \n",
       "4           4      4           4.0  1343431408052662273  1343043963096326147   \n",
       "\n",
       "        created_at                 date  timezone  place  \\\n",
       "0  1609184778000.0  2020-12-28 19:46:18         0    NaN   \n",
       "1  1609178853000.0  2020-12-28 18:07:33         0    NaN   \n",
       "2  1609176231000.0  2020-12-28 17:23:51         0    NaN   \n",
       "3  1609176211000.0  2020-12-28 17:23:31         0    NaN   \n",
       "4  1609133982000.0  2020-12-28 05:39:42         0    NaN   \n",
       "\n",
       "                                               tweet  ...  \\\n",
       "0  Entertainment will be critical when cars drive...  ...   \n",
       "1  @kimpaquette Just meeting with Larry Ellison t...  ...   \n",
       "2                        @richierichhhhh_ Absolutely  ...   \n",
       "3  What should Tesla do with in-car gaming in an ...  ...   \n",
       "4                          @PPathole @WSJ Absolutely  ...   \n",
       "\n",
       "                                            reply_to retweet_date translate  \\\n",
       "0                                                 []          NaN       NaN   \n",
       "1  [{'screen_name': 'kimpaquette', 'name': 'Kim P...          NaN       NaN   \n",
       "2  [{'screen_name': 'richierichhhhh_', 'name': 'R...          NaN       NaN   \n",
       "3                                                 []          NaN       NaN   \n",
       "4  [{'screen_name': 'PPathole', 'name': 'Pranay P...          NaN       NaN   \n",
       "\n",
       "   trans_src  trans_dest time mentions  replies_count  retweets_count  \\\n",
       "0        NaN         NaN  NaN      NaN            NaN             NaN   \n",
       "1        NaN         NaN  NaN      NaN            NaN             NaN   \n",
       "2        NaN         NaN  NaN      NaN            NaN             NaN   \n",
       "3        NaN         NaN  NaN      NaN            NaN             NaN   \n",
       "4        NaN         NaN  NaN      NaN            NaN             NaN   \n",
       "\n",
       "  likes_count  \n",
       "0         NaN  \n",
       "1         NaN  \n",
       "2         NaN  \n",
       "3         NaN  \n",
       "4         NaN  \n",
       "\n",
       "[5 rows x 46 columns]"
      ]
     },
     "execution_count": 5,
     "metadata": {},
     "output_type": "execute_result"
    }
   ],
   "source": [
    "train_df = read_csvFile_to_df('TweetsMusk copy.csv')\n",
    "test_df = read_csvFile_to_df('2years.csv')\n",
    "test_df.head()"
   ]
  },
  {
   "cell_type": "code",
   "execution_count": 6,
   "metadata": {},
   "outputs": [
    {
     "data": {
      "text/html": [
       "<div>\n",
       "<style scoped>\n",
       "    .dataframe tbody tr th:only-of-type {\n",
       "        vertical-align: middle;\n",
       "    }\n",
       "\n",
       "    .dataframe tbody tr th {\n",
       "        vertical-align: top;\n",
       "    }\n",
       "\n",
       "    .dataframe thead th {\n",
       "        text-align: right;\n",
       "    }\n",
       "</style>\n",
       "<table border=\"1\" class=\"dataframe\">\n",
       "  <thead>\n",
       "    <tr style=\"text-align: right;\">\n",
       "      <th></th>\n",
       "      <th>id</th>\n",
       "      <th>User</th>\n",
       "      <th>Tweet</th>\n",
       "      <th>created_at</th>\n",
       "      <th>hashtags</th>\n",
       "      <th>lang</th>\n",
       "      <th>Label</th>\n",
       "    </tr>\n",
       "  </thead>\n",
       "  <tbody>\n",
       "    <tr>\n",
       "      <th>0</th>\n",
       "      <td>0</td>\n",
       "      <td>elonmusk</td>\n",
       "      <td>@MedvedevRussiaE @trussliz Btw, how’s it going...</td>\n",
       "      <td>2022-10-20 21:20:40+00:00</td>\n",
       "      <td>[]</td>\n",
       "      <td>en</td>\n",
       "      <td>F</td>\n",
       "    </tr>\n",
       "    <tr>\n",
       "      <th>1</th>\n",
       "      <td>1</td>\n",
       "      <td>elonmusk</td>\n",
       "      <td>@MedvedevRussiaE @trussliz Pretty good troll tbh</td>\n",
       "      <td>2022-10-20 21:12:17+00:00</td>\n",
       "      <td>[]</td>\n",
       "      <td>en</td>\n",
       "      <td>F</td>\n",
       "    </tr>\n",
       "    <tr>\n",
       "      <th>2</th>\n",
       "      <td>2</td>\n",
       "      <td>elonmusk</td>\n",
       "      <td>@Alan_McGuinness *humour</td>\n",
       "      <td>2022-10-20 21:07:30+00:00</td>\n",
       "      <td>[]</td>\n",
       "      <td>fr</td>\n",
       "      <td>NF</td>\n",
       "    </tr>\n",
       "    <tr>\n",
       "      <th>3</th>\n",
       "      <td>3</td>\n",
       "      <td>elonmusk</td>\n",
       "      <td>@ilyasut I couldn’t agree more 😜</td>\n",
       "      <td>2022-10-20 20:37:33+00:00</td>\n",
       "      <td>[]</td>\n",
       "      <td>en</td>\n",
       "      <td>NF</td>\n",
       "    </tr>\n",
       "    <tr>\n",
       "      <th>4</th>\n",
       "      <td>4</td>\n",
       "      <td>elonmusk</td>\n",
       "      <td>@Alan_McGuinness British humor is the best</td>\n",
       "      <td>2022-10-20 20:36:51+00:00</td>\n",
       "      <td>[]</td>\n",
       "      <td>en</td>\n",
       "      <td>NF</td>\n",
       "    </tr>\n",
       "  </tbody>\n",
       "</table>\n",
       "</div>"
      ],
      "text/plain": [
       "   id      User                                              Tweet  \\\n",
       "0   0  elonmusk  @MedvedevRussiaE @trussliz Btw, how’s it going...   \n",
       "1   1  elonmusk   @MedvedevRussiaE @trussliz Pretty good troll tbh   \n",
       "2   2  elonmusk                           @Alan_McGuinness *humour   \n",
       "3   3  elonmusk                   @ilyasut I couldn’t agree more 😜   \n",
       "4   4  elonmusk         @Alan_McGuinness British humor is the best   \n",
       "\n",
       "                  created_at hashtags lang Label  \n",
       "0  2022-10-20 21:20:40+00:00       []   en     F  \n",
       "1  2022-10-20 21:12:17+00:00       []   en     F  \n",
       "2  2022-10-20 21:07:30+00:00       []   fr    NF  \n",
       "3  2022-10-20 20:37:33+00:00       []   en    NF  \n",
       "4  2022-10-20 20:36:51+00:00       []   en    NF  "
      ]
     },
     "execution_count": 6,
     "metadata": {},
     "output_type": "execute_result"
    }
   ],
   "source": [
    "train_df.head()"
   ]
  },
  {
   "cell_type": "code",
   "execution_count": 8,
   "metadata": {
    "jupyter": {
     "outputs_hidden": false
    },
    "pycharm": {
     "name": "#%%\n"
    }
   },
   "outputs": [],
   "source": [
    "\n",
    "def preprocess(data):\n",
    "    data= data.lower()\n",
    "    data = re.sub(r'\\d+', '', data)\n",
    "    data = re.sub(\"'\", \"\", data)\n",
    "    data = re.sub(\"@[A-Za-z0-9_]+\",\"\", data)\n",
    "    data = re.sub(\"#[A-Za-z0-9_]+\",\"\", data)\n",
    "    data = re.sub(r'http\\S+', '', data)\n",
    "    data = re.sub('[()!?]', ' ', data)\n",
    "    data = re.sub('\\[.*?\\]',' ', data)\n",
    "    data = data.strip()\n",
    "    return data\n",
    "\n",
    "def series_to_tfidf(sr, **kwargs):\n",
    "    vectorizer = TfidfVectorizer(**kwargs)\n",
    "    titleFeatues = vectorizer.fit_transform(sr).toarray()\n",
    "    return vectorizer, titleFeatues\n",
    "\n",
    "\n",
    "def evaluate_classification(y_true, y_predicted):\n",
    "    print(\"=\"*50)\n",
    "    print(\"Classification Report\")\n",
    "    print(classification_report(y_true, y_predicted))\n",
    "    print(\"=\"*50)\n",
    "    ConfusionMatrixDisplay.from_predictions(y_true, y_predicted)\n",
    "    plt.xticks(rotation=90)\n",
    "    plt.show()\n",
    "    "
   ]
  },
  {
   "cell_type": "code",
   "execution_count": 27,
   "metadata": {},
   "outputs": [],
   "source": [
    "\n",
    "#extracting title in to df for train and test set\n",
    "trainTitleSeries = train_df['Tweet']\n",
    "testTitleSeries = test_df['tweet']\n",
    "# extracting labels from train_df\n",
    "labels = train_df['Label']\n",
    "\n",
    "#converting train title df to tf-idf which returns\n",
    "trainTitleFeatues = series_to_tfidf(trainTitleSeries,\n",
    "                                    stop_words=\"english\",\n",
    "                                    lowercase=True,\n",
    "                                    vocabulary=None,\n",
    "                                    preprocessor=lambda x: preprocess(x),\n",
    "                                    analyzer ='word',\n",
    "                                    strip_accents=\"unicode\",\n",
    "                                    min_df=5,\n",
    "                                    ngram_range=(1,4),\n",
    "                                    max_features = 500\n",
    "                                   )\n",
    "\n",
    "#Using Vocabulary only from Train Set\n",
    "testTitleFeatues = series_to_tfidf(testTitleSeries,\n",
    "                                    stop_words=\"english\",\n",
    "                                    lowercase=True,\n",
    "                                    preprocessor=lambda x: preprocess(x),\n",
    "                                    analyzer ='word',\n",
    "                                    strip_accents=\"unicode\",\n",
    "                                    min_df=5,\n",
    "                                    ngram_range=(1,4),\n",
    "                                    max_features = 500\n",
    "                                   )\n",
    "\n",
    "\n",
    "# Split Data to train model\n",
    "X_train, X_test, y_train, y_test = train_test_split(trainTitleFeatues[1], labels, test_size=0.25, random_state=RANDOM_SEED,stratify=labels) \n"
   ]
  },
  {
   "cell_type": "code",
   "execution_count": 28,
   "metadata": {},
   "outputs": [
    {
     "data": {
      "text/plain": [
       "(14832, 500)"
      ]
     },
     "execution_count": 28,
     "metadata": {},
     "output_type": "execute_result"
    }
   ],
   "source": [
    "#Checking the shape \n",
    "testTitleFeatues[1].shape"
   ]
  },
  {
   "cell_type": "code",
   "execution_count": null,
   "metadata": {},
   "outputs": [],
   "source": []
  },
  {
   "cell_type": "code",
   "execution_count": null,
   "metadata": {},
   "outputs": [],
   "source": []
  },
  {
   "cell_type": "code",
   "execution_count": 29,
   "metadata": {},
   "outputs": [],
   "source": [
    "lrModel= LogisticRegression(C=1.623776739188721, penalty='l1',\n",
    "                            solver='liblinear', \n",
    "                            random_state=RANDOM_SEED,\n",
    "                            max_iter=300,\n",
    "                            )"
   ]
  },
  {
   "cell_type": "code",
   "execution_count": 30,
   "metadata": {},
   "outputs": [
    {
     "data": {
      "text/plain": [
       "LogisticRegression(C=1.623776739188721, class_weight=None, dual=False,\n",
       "                   fit_intercept=True, intercept_scaling=1, l1_ratio=None,\n",
       "                   max_iter=300, multi_class='auto', n_jobs=None, penalty='l1',\n",
       "                   random_state=3971944, solver='liblinear', tol=0.0001,\n",
       "                   verbose=0, warm_start=False)"
      ]
     },
     "execution_count": 30,
     "metadata": {},
     "output_type": "execute_result"
    }
   ],
   "source": [
    "lrModel.fit(X_train, y_train)"
   ]
  },
  {
   "cell_type": "code",
   "execution_count": 31,
   "metadata": {},
   "outputs": [],
   "source": [
    "y_pred= lrModel.predict(X_test)"
   ]
  },
  {
   "cell_type": "code",
   "execution_count": 50,
   "metadata": {},
   "outputs": [
    {
     "name": "stdout",
     "output_type": "stream",
     "text": [
      "LogisticRegression Classification Report\n",
      "              precision    recall  f1-score   support\n",
      "\n",
      "           F       0.55      0.79      0.65       233\n",
      "          NF       0.88      0.71      0.79       517\n",
      "\n",
      "    accuracy                           0.74       750\n",
      "   macro avg       0.72      0.75      0.72       750\n",
      "weighted avg       0.78      0.74      0.75       750\n",
      "\n"
     ]
    }
   ],
   "source": [
    "print(\"LogisticRegression Classification Report\")\n",
    "print(classification_report(y_pred,y_test))"
   ]
  },
  {
   "cell_type": "code",
   "execution_count": 33,
   "metadata": {},
   "outputs": [],
   "source": [
    "pd.DataFrame(lrModel.predict(testTitleFeatues[1]), index=test_df['id']).to_csv('S3971944-A2-predictions-11.csv')"
   ]
  },
  {
   "cell_type": "code",
   "execution_count": 34,
   "metadata": {},
   "outputs": [],
   "source": [
    "rfcModel = RandomForestClassifier(bootstrap=True, \n",
    "                       n_estimators=300,\n",
    "                       n_jobs=-1,\n",
    "                       random_state=RANDOM_SEED)"
   ]
  },
  {
   "cell_type": "code",
   "execution_count": 35,
   "metadata": {},
   "outputs": [],
   "source": [
    "rfcModel.fit(X_train, y_train)\n",
    "y_pred= rfcModel.predict(X_test)"
   ]
  },
  {
   "cell_type": "code",
   "execution_count": 51,
   "metadata": {},
   "outputs": [
    {
     "name": "stdout",
     "output_type": "stream",
     "text": [
      "RandomForestClassifier Classification Report\n",
      "              precision    recall  f1-score   support\n",
      "\n",
      "           F       0.55      0.79      0.65       233\n",
      "          NF       0.88      0.71      0.79       517\n",
      "\n",
      "    accuracy                           0.74       750\n",
      "   macro avg       0.72      0.75      0.72       750\n",
      "weighted avg       0.78      0.74      0.75       750\n",
      "\n"
     ]
    }
   ],
   "source": [
    "print(\"RandomForestClassifier Classification Report\")\n",
    "print(classification_report(y_pred,y_test))"
   ]
  },
  {
   "cell_type": "code",
   "execution_count": 38,
   "metadata": {},
   "outputs": [],
   "source": [
    "pd.DataFrame(rfcModel.predict(testTitleFeatues[1]), index=test_df['id']).to_csv('S3971944-A2-predictions-21.csv')"
   ]
  },
  {
   "cell_type": "code",
   "execution_count": 43,
   "metadata": {},
   "outputs": [],
   "source": [
    "countDFuturistic = pd.DataFrame({\"result\":lrModel.predict(testTitleFeatues[1])})"
   ]
  },
  {
   "cell_type": "code",
   "execution_count": 52,
   "metadata": {},
   "outputs": [
    {
     "name": "stdout",
     "output_type": "stream",
     "text": [
      "Number of Tweets Classified as Futuristic and Non Futuristic\n"
     ]
    },
    {
     "data": {
      "text/plain": [
       "result\n",
       "NF        10938\n",
       "F          3894\n",
       "dtype: int64"
      ]
     },
     "execution_count": 52,
     "metadata": {},
     "output_type": "execute_result"
    }
   ],
   "source": [
    "print(\"Number of Tweets Classified as Futuristic and Non Futuristic\")\n",
    "countDFuturistic.value_counts()"
   ]
  },
  {
   "cell_type": "code",
   "execution_count": 48,
   "metadata": {},
   "outputs": [
    {
     "data": {
      "text/plain": [
       "result\n",
       "F         3894\n",
       "dtype: int64"
      ]
     },
     "execution_count": 48,
     "metadata": {},
     "output_type": "execute_result"
    }
   ],
   "source": [
    "countDFuturistic[countDFuturistic['result']=='F'].value_counts()"
   ]
  },
  {
   "cell_type": "code",
   "execution_count": null,
   "metadata": {},
   "outputs": [],
   "source": []
  }
 ],
 "metadata": {
  "kernelspec": {
   "display_name": "Python 3 (ipykernel)",
   "language": "python",
   "name": "python3"
  }
 },
 "nbformat": 4,
 "nbformat_minor": 4
}
